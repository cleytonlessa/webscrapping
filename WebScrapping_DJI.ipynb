{
  "nbformat": 4,
  "nbformat_minor": 0,
  "metadata": {
    "colab": {
      "provenance": [],
      "authorship_tag": "ABX9TyOu4GZo4nJpO9GTmghnXfe0",
      "include_colab_link": true
    },
    "kernelspec": {
      "name": "python3",
      "display_name": "Python 3"
    },
    "language_info": {
      "name": "python"
    }
  },
  "cells": [
    {
      "cell_type": "markdown",
      "metadata": {
        "id": "view-in-github",
        "colab_type": "text"
      },
      "source": [
        "<a href=\"https://colab.research.google.com/github/cleytonlessa/webscrapping/blob/main/WebScrapping_DJI.ipynb\" target=\"_parent\"><img src=\"https://colab.research.google.com/assets/colab-badge.svg\" alt=\"Open In Colab\"/></a>"
      ]
    },
    {
      "cell_type": "code",
      "execution_count": null,
      "metadata": {
        "id": "ZVwtEU12VonB"
      },
      "outputs": [],
      "source": [
        "#pip install bs4"
      ]
    },
    {
      "cell_type": "code",
      "source": [
        "#pip install requests"
      ],
      "metadata": {
        "id": "o1hFyo9CWGKQ"
      },
      "execution_count": null,
      "outputs": []
    },
    {
      "cell_type": "code",
      "source": [
        "from bs4 import BeautifulSoup as bs\n",
        "import requests\n",
        "import smtplib\n",
        "import email.message"
      ],
      "metadata": {
        "id": "OHmMtbYgWOOd"
      },
      "execution_count": 18,
      "outputs": []
    },
    {
      "cell_type": "code",
      "source": [
        "url = 'https://www.brasiltronic.com.br/dji-mavic-mini-2-drone-mini2-p1329244'\n",
        "\n",
        "# my user agent\n",
        "headers = {\n",
        "    'User-Agent': \"Mozilla/5.0 (Windows NT 10.0; Win64; x64) AppleWebKit/537.36 (KHTML, like Gecko) Chrome/104.0.5112.102 Safari/537.36 OPR/90.0.4480.100\"}\n",
        "\n",
        "site = requests.get(url, headers=headers)\n",
        "soup = bs(site.content, 'html.parser')\n",
        "\n",
        "#print(soup.prettify())\n",
        "\n",
        "title = soup.find('h1', class_= 'name').get_text().strip()\n",
        "price = soup.find('strong', class_= 'sale-price').get_text().strip()\n",
        "\n",
        "num_price = price[3:8]\n",
        "num_price = num_price.replace('.','')\n",
        "num_price = float(num_price)\n",
        "\n",
        "#cleytonscrapper@gmail.com\n",
        "#scrapper183\n",
        "def send_email():\n",
        "  email_content = \"\"\"\n",
        "  https://www.brasiltronic.com.br/dji-mavic-mini-2-drone-mini2-p1329244\n",
        "  \"\"\"\n",
        "  msg = email.message.Message()\n",
        "  msg['Subject'] = 'Preço DJI Mini 2 CAIU!!!'\n",
        "\n",
        "  msg['From'] = 'cleytonscrapper@gmail.com'\n",
        "  msg['To'] = 'cleytonlessa@gmail.com'\n",
        "  password = 'nfjucinnxeqdslnh'\n",
        "  msg.add_header('Content-Type', 'text/html')\n",
        "  msg.set_payload(email_content)\n",
        "\n",
        "  s = smtplib.SMTP('smtp.gmail.com: 587')\n",
        "  s.starttls()\n",
        "  s.login(msg['From'], password)\n",
        "  s.sendmail(msg['From'], [msg['To']], msg.as_string().encode('utf-8'))\n",
        "\n",
        "  print(\"Email enviado com sucesso!\")\n",
        "\n",
        "if (num_price < 7000):\n",
        "  send_email()"
      ],
      "metadata": {
        "colab": {
          "base_uri": "https://localhost:8080/"
        },
        "id": "ZDcKBre_WaQQ",
        "outputId": "3d7891ff-cafe-4403-bcc5-ec8ce2813a31"
      },
      "execution_count": 23,
      "outputs": [
        {
          "output_type": "stream",
          "name": "stdout",
          "text": [
            "Email enviado com sucesso!\n"
          ]
        }
      ]
    },
    {
      "cell_type": "code",
      "source": [
        "!ls"
      ],
      "metadata": {
        "colab": {
          "base_uri": "https://localhost:8080/"
        },
        "id": "pMUHJARJkir7",
        "outputId": "f852a851-ec39-4958-908a-0191c5e208ff"
      },
      "execution_count": 24,
      "outputs": [
        {
          "output_type": "stream",
          "name": "stdout",
          "text": [
            "sample_data\n"
          ]
        }
      ]
    }
  ]
}